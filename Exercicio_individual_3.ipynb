{
  "nbformat": 4,
  "nbformat_minor": 0,
  "metadata": {
    "colab": {
      "provenance": [],
      "authorship_tag": "ABX9TyOqfht6dKxDFffl2C/wH/av",
      "include_colab_link": true
    },
    "kernelspec": {
      "name": "python3",
      "display_name": "Python 3"
    },
    "language_info": {
      "name": "python"
    }
  },
  "cells": [
    {
      "cell_type": "markdown",
      "metadata": {
        "id": "view-in-github",
        "colab_type": "text"
      },
      "source": [
        "<a href=\"https://colab.research.google.com/github/devLarissaRodrigues/Bootcamp-DataAnalytics-WoMakersCode/blob/main/Exercicio_individual_3.ipynb\" target=\"_parent\"><img src=\"https://colab.research.google.com/assets/colab-badge.svg\" alt=\"Open In Colab\"/></a>"
      ]
    },
    {
      "cell_type": "markdown",
      "source": [
        "## Considerando a base de dados de populacao_brasileira.json, responda as questões abaixo (os dados são fictícios).\n",
        "Você é uma pesquisadora desenvolvendo uma análise sobre as características\n",
        "da força de trabalho nos estados brasileiros. Responda as perguntas abaixo:\n",
        "1. Considere pessoas fluentes em inglês, qual a probabilidade\n",
        "complementar? Ou seja, qual a probabilidade de escolhermos uma pessoa\n",
        "aleatória e ela não ser fluente em inglês. Considere fluente quem tem o\n",
        "nível avançado.\n",
        "2. Se uma pessoa escolhida aleatoriamente for de Alagoas ou do Pará, qual\n",
        "é a probabilidade de ela ter uma renda superior a 5 mil reais?\n",
        "3. Descubra a probabilidade de uma pessoa, residente no estado do\n",
        "Amazonas, ter ensino superior completo (considerando apenas a\n",
        "escolaridade classificada como 'Superior'). Qual a probabilidade da quinta\n",
        "pessoa amazonense que você conversar ter ensino superior completo?\n",
        "4. Considerando a renda das pessoas do nosso conjunto, podemos dizer\n",
        "que a renda de uma pessoa brasileira está na sua maioria em que faixa\n",
        "(faça faixa de 1.500 reais)? Qual é a sua função densidade de probabilidade?\n",
        "5. Calcule a média e a variância da renda da amostra. Depois faça a\n",
        "distribuição normal, inclua o gráfico.\n",
        "6. Primeiro considere a probabilidade encontrada no nosso conjunto de\n",
        "pessoas com escolaridade de pós-graduação. Considerando a amostra de\n",
        "população brasileira com 1 milhão de habitantes, qual a probabilidade de\n",
        "encontrarmos 243 mil pessoas com pós-graduação?\n",
        "7. Somando as densidades nós temos a função de densida de acumulada.\n",
        "Considerando a coluna ‘Escolaridade’ faça a função de densidade\n",
        "acumulada discreta para cada nível de escolaridade.\n",
        "8. Qual a margem de erro amostral da proporção populacional\n",
        "considerando a proporção de pessoas com nível de inglês intermediário?\n",
        "9. Calcula a renda da população. Qual a probabilidade de encontrar 60\n",
        "pessoas com uma renda mil reais superior à média?\n",
        "10. Qual é a probabilidade de escolhermos uma pessoa residente na região\n",
        "Sudeste que seja homem, tenha apenas ensino fundamental completo e\n",
        "possua renda mensal superior a 2 mil reais?\n"
      ],
      "metadata": {
        "id": "ascF_gvgBhRX"
      }
    },
    {
      "cell_type": "markdown",
      "source": [
        "## Importando o dataset e as bibliotecas"
      ],
      "metadata": {
        "id": "DTPTDPBcCJqG"
      }
    },
    {
      "cell_type": "code",
      "execution_count": 1,
      "metadata": {
        "colab": {
          "base_uri": "https://localhost:8080/",
          "height": 105
        },
        "id": "xepPnTzwBZKc",
        "outputId": "6e6b2f99-468e-4254-9d9e-b1447dc414c3"
      },
      "outputs": [
        {
          "output_type": "stream",
          "name": "stderr",
          "text": [
            "Downloading...\n",
            "From: https://drive.google.com/uc?id=1gL5uu4yVtfiYnUowkZg2eB89SgA8Neat\n",
            "To: /content/FPI_populacao_brasileira.csv\n",
            "100%|██████████| 42.2k/42.2k [00:00<00:00, 38.2MB/s]\n"
          ]
        },
        {
          "output_type": "execute_result",
          "data": {
            "text/plain": [
              "'FPI_populacao_brasileira.csv'"
            ],
            "application/vnd.google.colaboratory.intrinsic+json": {
              "type": "string"
            }
          },
          "metadata": {},
          "execution_count": 1
        }
      ],
      "source": [
        "import gdown\n",
        "# ID do arquivo no Google Drive\n",
        "file_id = \"1gL5uu4yVtfiYnUowkZg2eB89SgA8Neat\"\n",
        "\n",
        "# URL de download\n",
        "url = f\"https://drive.google.com/uc?id={file_id}\"\n",
        "\n",
        "# Nome do arquivo de saída\n",
        "output = \"FPI_populacao_brasileira.csv\"\n",
        "\n",
        "# Baixar o arquivo\n",
        "gdown.download(url, output, quiet=False)\n"
      ]
    },
    {
      "cell_type": "code",
      "source": [
        "import pandas as pd\n",
        "\n",
        "# Ler o arquivo baixado\n",
        "df = pd.read_csv(\"FPI_populacao_brasileira.csv\", encoding=\"utf-8\")\n",
        "\n",
        "# Exibir as primeiras linhas\n",
        "print(df.head())\n"
      ],
      "metadata": {
        "colab": {
          "base_uri": "https://localhost:8080/"
        },
        "id": "MyQieYKsDRxI",
        "outputId": "2f1d5661-c8f5-472c-c495-3d61f396bfe5"
      },
      "execution_count": 2,
      "outputs": [
        {
          "output_type": "stream",
          "name": "stdout",
          "text": [
            "   Unnamed: 0 estado  idade escolaridade nível de proficiência em inglês  \\\n",
            "0           0     MA     56  Fundamental                   Intermediário   \n",
            "1           1     BA     46     Superior                          Básico   \n",
            "2           2     AM     32  Fundamental                   Intermediário   \n",
            "3           3     CE     60     Superior                          Básico   \n",
            "4           4     SE     25  Fundamental                        Avançado   \n",
            "\n",
            "     renda sexo  \n",
            "0  4006.29    F  \n",
            "1  2423.11    M  \n",
            "2  3835.69    M  \n",
            "3  1870.29    M  \n",
            "4  3529.80    M  \n"
          ]
        }
      ]
    }
  ]
}