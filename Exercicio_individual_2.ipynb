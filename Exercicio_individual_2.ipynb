{
  "nbformat": 4,
  "nbformat_minor": 0,
  "metadata": {
    "colab": {
      "provenance": [],
      "mount_file_id": "1J6_O2T7xCjXZOcFuJbbIu_5qrz9YUIfU",
      "authorship_tag": "ABX9TyOnO/Hyvdl4xrorA6HYJ8SL",
      "include_colab_link": true
    },
    "kernelspec": {
      "name": "python3",
      "display_name": "Python 3"
    },
    "language_info": {
      "name": "python"
    }
  },
  "cells": [
    {
      "cell_type": "markdown",
      "metadata": {
        "id": "view-in-github",
        "colab_type": "text"
      },
      "source": [
        "<a href=\"https://colab.research.google.com/github/devLarissaRodrigues/Bootcamp-DataAnalytics-WoMakersCode/blob/main/Exercicio_individual_2.ipynb\" target=\"_parent\"><img src=\"https://colab.research.google.com/assets/colab-badge.svg\" alt=\"Open In Colab\"/></a>"
      ]
    },
    {
      "cell_type": "markdown",
      "source": [
        "## **Importação das bibliotecas:**"
      ],
      "metadata": {
        "id": "b0Tb-t8q9Bjp"
      }
    },
    {
      "cell_type": "code",
      "execution_count": 3,
      "metadata": {
        "id": "K04n72tW5jKx"
      },
      "outputs": [],
      "source": [
        "import pandas as pd\n",
        "import json\n",
        "import gdown\n",
        "import numpy as np\n",
        "import seaborn as sbn\n",
        "import matplotlib.pyplot as plt\n",
        "import scipy.stats as stat"
      ]
    },
    {
      "cell_type": "markdown",
      "source": [
        "## **Carregando os dados:**"
      ],
      "metadata": {
        "id": "AtBmCnpw9IAd"
      }
    },
    {
      "cell_type": "code",
      "source": [
        "from google.colab import drive\n",
        "drive.mount('/content/drive')\n",
        "df = pd.read_json('/content/drive/MyDrive/Bootcamp - WoMakersCode/enem_2023.json')\n",
        "print(df.head())"
      ],
      "metadata": {
        "colab": {
          "base_uri": "https://localhost:8080/"
        },
        "id": "qNwDCxdN5tq5",
        "outputId": "360c2825-246f-4edc-e185-67b7f337d7bb"
      },
      "execution_count": 5,
      "outputs": [
        {
          "output_type": "stream",
          "name": "stdout",
          "text": [
            "Drive already mounted at /content/drive; to attempt to forcibly remount, call drive.mount(\"/content/drive\", force_remount=True).\n",
            "   Linguagens  Ciências humanas  Ciências da natureza  Matemática     Redação  \\\n",
            "0  585.669300        686.512178            390.482473  452.281333  546.371706   \n",
            "1  359.384608        642.084134                   NaN  412.205207  741.825256   \n",
            "2  622.732384        495.510719            443.183580  669.683401  684.515750   \n",
            "3  350.164605        602.041588            413.979810  676.608952  671.237114   \n",
            "4  384.093657        489.249140            609.758123  520.426698  744.375048   \n",
            "\n",
            "     Sexo  \n",
            "0   Homem  \n",
            "1  Mulher  \n",
            "2   Homem  \n",
            "3   Homem  \n",
            "4   Homem  \n"
          ]
        }
      ]
    },
    {
      "cell_type": "markdown",
      "source": [
        "## **Questão 01:** Qual das disciplinas tem a maior amplitude de nota?"
      ],
      "metadata": {
        "id": "w4mpCyOy9N9A"
      }
    },
    {
      "cell_type": "code",
      "source": [
        "# Questão 01\n",
        "# Listando as colunas de disciplinas:\n",
        "disciplinas = ['Linguagens', 'Ciências humanas', 'Ciências da natureza', 'Matemática', 'Redação']\n",
        "\n",
        "# Calculando a amplitude de cada disciplina:\n",
        "amplitudes = {disciplina:df[disciplina].max() - df[disciplina].min() for disciplina in disciplinas}\n",
        "disciplina_maior_amplitude = max(amplitudes, key=amplitudes.get)\n",
        "print(f'As amplitudes das disciplinas são: {amplitudes}')\n",
        "print(f'A disciplina com a maior amplitude de nota é: {disciplina_maior_amplitude}')"
      ],
      "metadata": {
        "colab": {
          "base_uri": "https://localhost:8080/"
        },
        "id": "PKvRFREu6toV",
        "outputId": "a25398af-40cc-4ab5-d6ee-f03f8cc08b6b"
      },
      "execution_count": 6,
      "outputs": [
        {
          "output_type": "stream",
          "name": "stdout",
          "text": [
            "As amplitudes das disciplinas são: {'Linguagens': 517.4563171927, 'Ciências humanas': 474.0196954613, 'Ciências da natureza': 487.60456835130003, 'Matemática': 488.0779018921, 'Redação': 729.1600351395}\n",
            "A disciplina com a maior amplitude de nota é: Redação\n"
          ]
        }
      ]
    },
    {
      "cell_type": "markdown",
      "source": [
        "## **Questão 02:** : Qual é a média e a mediana para cada uma das disciplinas? (Lembre-se de remover todos os valores nulos quando considerar a mediana)"
      ],
      "metadata": {
        "id": "AC-8-ev59X64"
      }
    },
    {
      "cell_type": "code",
      "source": [
        "# Questão 02\n",
        "# Calcular média e mediana, ignorando valores nulos\n",
        "medias = df[disciplinas].mean()\n",
        "medianas = df[disciplinas].median(skipna=True)\n",
        "\n",
        "# Criar um DataFrame para exibir os resultados\n",
        "resultado = pd.DataFrame({'Média': medias, 'Mediana': medianas})\n",
        "print(resultado)\n"
      ],
      "metadata": {
        "colab": {
          "base_uri": "https://localhost:8080/"
        },
        "id": "sh9UaDIe6vQ9",
        "outputId": "ff1b652b-284f-431c-ab52-d3cbb3f971e9"
      },
      "execution_count": 7,
      "outputs": [
        {
          "output_type": "stream",
          "name": "stdout",
          "text": [
            "                           Média     Mediana\n",
            "Linguagens            514.524809  515.045250\n",
            "Ciências humanas      527.042281  524.519920\n",
            "Ciências da natureza  499.315583  500.479263\n",
            "Matemática            535.965660  533.247767\n",
            "Redação               637.783532  635.273973\n"
          ]
        }
      ]
    },
    {
      "cell_type": "markdown",
      "source": [
        "## **Questão 03:** Considerando o curso de Ciência da Computação da UFPE, onde o peso cada uma das disciplinas ponderado:\n",
        "### a. Redação - 2\n",
        "### b. Matemática e suas Tecnologias - 4\n",
        "### c. Linguagens, Códigos e suas Tecnologias - 2\n",
        "### d. Ciências Humanas e suas Tecnologias - 1\n",
        "### e. Ciências da Natureza e suas Tecnologias - 1\n",
        "### **Qual o desvio padrão e média das notas dos 500 estudantes mais bem colocados considerando esses pesos?**"
      ],
      "metadata": {
        "id": "GdnSk_to9YPX"
      }
    },
    {
      "cell_type": "code",
      "source": [
        "# Questão 3:\n",
        "# Definir os pesos das disciplinas\n",
        "pesos = {\n",
        "    'Redação': 2,\n",
        "    'Matemática': 4,\n",
        "    'Linguagens': 2,\n",
        "    'Ciências humanas': 1,\n",
        "    'Ciências da natureza': 1\n",
        "}\n",
        "\n",
        "# Calcular a nota ponderada para cada estudante\n",
        "df['Nota Final'] = sum(df[disciplina] * peso for disciplina, peso in pesos.items())\n",
        "\n",
        "# Selecionar os 500 melhores estudantes\n",
        "top_500 = df.nlargest(500, 'Nota Final')\n",
        "\n",
        "# Calcular média e desvio padrão\n",
        "media_top500 = top_500['Nota Final'].mean()\n",
        "desvio_padrao_top500 = top_500['Nota Final'].std()\n",
        "\n",
        "print(f'Média dos 500 melhores estudantes: {media_top500:.2f}')\n",
        "print(f'Desvio padrão dos 500 melhores estudantes: {desvio_padrao_top500:.2f}')"
      ],
      "metadata": {
        "colab": {
          "base_uri": "https://localhost:8080/"
        },
        "id": "zYP54KqH79ey",
        "outputId": "a6a1da97-0c4e-4b6e-a5b7-918adcc675b8"
      },
      "execution_count": 8,
      "outputs": [
        {
          "output_type": "stream",
          "name": "stdout",
          "text": [
            "Média dos 500 melhores estudantes: 5572.90\n",
            "Desvio padrão dos 500 melhores estudantes: 404.36\n"
          ]
        }
      ]
    },
    {
      "cell_type": "markdown",
      "source": [
        "## **Questão 04:**  Se todos esses estudantes aplicassem para ciência da computação e existem apenas 40 vagas, qual seria a variância e média da nota dos estudantes que entraram no curso de ciência da computação?"
      ],
      "metadata": {
        "id": "svzXRZWk9Yd-"
      }
    },
    {
      "cell_type": "code",
      "source": [
        "# Questão 4:\n",
        "# Selecionar os 40 primeiros colocados\n",
        "top_40 = top_500.nlargest(40, 'Nota Final')\n",
        "\n",
        "# Calcular média e variância\n",
        "media_top40 = top_40['Nota Final'].mean()\n",
        "variancia_top40 = top_40['Nota Final'].var()\n",
        "\n",
        "print(f'Média dos 40 estudantes aprovados: {media_top40:.2f}')\n",
        "print(f'Variância das notas dos aprovados: {variancia_top40:.2f}')\n"
      ],
      "metadata": {
        "colab": {
          "base_uri": "https://localhost:8080/"
        },
        "id": "KClo6TnF8w8A",
        "outputId": "15f58dce-e4be-4d9b-e424-052c9602cba4"
      },
      "execution_count": 9,
      "outputs": [
        {
          "output_type": "stream",
          "name": "stdout",
          "text": [
            "Média dos 40 estudantes aprovados: 6366.83\n",
            "Variância das notas dos aprovados: 29576.75\n"
          ]
        }
      ]
    },
    {
      "cell_type": "markdown",
      "source": [
        "## **Questão 05:**  Qual o valor do teto do terceiro quartil para as disciplinas de matemática e linguagens?"
      ],
      "metadata": {
        "id": "vOvR82Ui9Y64"
      }
    },
    {
      "cell_type": "code",
      "source": [
        "# Questão 5:\n",
        "q3_matematica = df['Matemática'].quantile(0.75)\n",
        "q3_linguagens = df['Linguagens'].quantile(0.75)\n",
        "\n",
        "print(f'Terceiro quartil de Matemática: {q3_matematica:.2f}')\n",
        "print(f'Terceiro quartil de Linguagens: {q3_linguagens:.2f}')\n"
      ],
      "metadata": {
        "colab": {
          "base_uri": "https://localhost:8080/"
        },
        "id": "YHzpjw6z9uGr",
        "outputId": "cc373c4b-f4f3-449b-fe27-c2df504b6cc9"
      },
      "execution_count": 10,
      "outputs": [
        {
          "output_type": "stream",
          "name": "stdout",
          "text": [
            "Terceiro quartil de Matemática: 592.91\n",
            "Terceiro quartil de Linguagens: 571.64\n"
          ]
        }
      ]
    },
    {
      "cell_type": "markdown",
      "source": [
        "## **Questão 06:** Faça o histograma de Redação e Linguagens, de 20 em 20 pontos. Podemos dizer que são histogramas simétricos, justifique e classifique se não assimétricas?\n"
      ],
      "metadata": {
        "id": "fdbNEOLk9ZB_"
      }
    },
    {
      "cell_type": "code",
      "source": [
        "# Questão 6:\n",
        "plt.figure(figsize=(12, 5))\n",
        "\n",
        "# Histograma de Redação\n",
        "plt.subplot(1, 2, 1)\n",
        "plt.hist(df['Redação'].dropna(), bins=range(0, 1000, 20), edgecolor='black', alpha=0.7)\n",
        "plt.title('Histograma de Redação')\n",
        "\n",
        "# Histograma de Linguagens\n",
        "plt.subplot(1, 2, 2)\n",
        "plt.hist(df['Linguagens'].dropna(), bins=range(0, 1000, 20), edgecolor='black', alpha=0.7)\n",
        "plt.title('Histograma de Linguagens')\n",
        "\n",
        "plt.show()\n",
        "\n",
        "# Sobre as assimetrias:\n",
        "assimetria_redacao = stat.skew(df['Redação'].dropna())\n",
        "assimetria_linguagens = stat.skew(df['Linguagens'].dropna())\n",
        "\n",
        "print(f'Assimetria de Redação: {assimetria_redacao:.2f}')\n",
        "print(f'Assimetria de Linguagens: {assimetria_linguagens:.2f}')\n",
        "print(\"Justificativa: Sim, podemos dizer que os histogramas de Redação e Linguagens são próximos de simétricos.\")\n",
        "print(\"A assimetria de ambas as distribuições é muito pequena (0.07 para Redação e 0.08 para Linguagens), indicando uma leve inclinação para a direita, mas de forma quase imperceptível\")\n",
        "print(\"Isso significa que a maioria das notas está concentrada ao redor da média, com apenas uma pequena quantidade de notas mais altas. Portanto, podemos classificar as distribuições como quase simétricas, sem grandes distorções.\")\n",
        "\n"
      ],
      "metadata": {
        "colab": {
          "base_uri": "https://localhost:8080/",
          "height": 555
        },
        "id": "Ye0RHC3O-HIB",
        "outputId": "1529e51c-e3f0-456a-fcec-c9d3c14d6953"
      },
      "execution_count": 11,
      "outputs": [
        {
          "output_type": "display_data",
          "data": {
            "text/plain": [
              "<Figure size 1200x500 with 2 Axes>"
            ],
            "image/png": "[encoded data removed]"
          },
          "metadata": {}
        },
        {
          "output_type": "stream",
          "name": "stdout",
          "text": [
            "Assimetria de Redação: 0.07\n",
            "Assimetria de Linguagens: 0.08\n",
            "Justificativa: Sim, podemos dizer que os histogramas de Redação e Linguagens são próximos de simétricos.\n",
            "A assimetria de ambas as distribuições é muito pequena (0.07 para Redação e 0.08 para Linguagens), indicando uma leve inclinação para a direita, mas de forma quase imperceptível\n",
            "Isso significa que a maioria das notas está concentrada ao redor da média, com apenas uma pequena quantidade de notas mais altas. Portanto, podemos classificar as distribuições como quase simétricas, sem grandes distorções.\n"
          ]
        }
      ]
    },
    {
      "cell_type": "markdown",
      "source": [
        "## **Questão 07:**  Agora coloque um range fixo de 0 até 1000, você ainda tem a mesma opinião quanto a simetria? [plt.hist(dado, bins=_, range=[0, 1000])"
      ],
      "metadata": {
        "id": "83bSBRjE9ZJP"
      }
    },
    {
      "cell_type": "code",
      "source": [
        "# Questão 7:\n",
        "plt.figure(figsize=(12, 5))\n",
        "\n",
        "plt.subplot(1, 2, 1)\n",
        "plt.hist(df['Redação'].dropna(), bins=20, range=[0, 1000], edgecolor='black', alpha=0.7)\n",
        "plt.title('Histograma de Redação (range 0-1000)')\n",
        "\n",
        "plt.subplot(1, 2, 2)\n",
        "plt.hist(df['Linguagens'].dropna(), bins=20, range=[0, 1000], edgecolor='black', alpha=0.7)\n",
        "plt.title('Histograma de Linguagens (range 0-1000)')\n",
        "\n",
        "plt.show()\n",
        "print(\"Justificativa: Não. Agora pode-se observar que não é tão simétrico como os histogramas anteriores.\")\n"
      ],
      "metadata": {
        "colab": {
          "base_uri": "https://localhost:8080/",
          "height": 468
        },
        "id": "SftKJQU-8_Xw",
        "outputId": "33973283-beba-4877-a7a6-c1cc8be7ed56"
      },
      "execution_count": 12,
      "outputs": [
        {
          "output_type": "display_data",
          "data": {
            "text/plain": [
              "<Figure size 1200x500 with 2 Axes>"
            ],
            "image/png": "[encoded data removed]"
          },
          "metadata": {}
        }
      ]
    },
    {
      "cell_type": "markdown",
      "source": [
        "## **Questão 08:**  Faça um boxplot para as notas de Ciências da Natureza e Redação, analisando os quartis e identificando possíveis outliers. Utilize o método IQR (Intervalo Interquartílico) para essa análise."
      ],
      "metadata": {
        "id": "LDggTKK5-QUH"
      }
    },
    {
      "cell_type": "code",
      "source": [
        "# Questão 8:\n",
        "plt.figure(figsize=(8, 6))\n",
        "sbn.boxplot(data=df[['Ciências da natureza', 'Redação']])\n",
        "plt.title('Boxplot de Ciências da Natureza e Redação')\n",
        "plt.show()\n",
        "\n",
        "for disciplina in ['Ciências da natureza', 'Redação']:\n",
        "    Q1 = df[disciplina].quantile(0.25)\n",
        "    Q3 = df[disciplina].quantile(0.75)\n",
        "    IQR = Q3 - Q1\n",
        "    limite_inferior = Q1 - 1.5 * IQR\n",
        "    limite_superior = Q3 + 1.5 * IQR\n",
        "\n",
        "    outliers = df[(df[disciplina] < limite_inferior) | (df[disciplina] > limite_superior)]\n",
        "    print(f'A disciplina {disciplina} tem {len(outliers)} outliers.')\n",
        "\n"
      ],
      "metadata": {
        "colab": {
          "base_uri": "https://localhost:8080/",
          "height": 580
        },
        "id": "Fg1FUphd-SdQ",
        "outputId": "45aaedd7-f738-404f-b589-74d202f5b17d"
      },
      "execution_count": null,
      "outputs": [
        {
          "output_type": "display_data",
          "data": {
            "text/plain": [
              "<Figure size 800x600 with 1 Axes>"
            ],
            "image/png": "[encoded data removed]"
          },
          "metadata": {}
        },
        {
          "output_type": "stream",
          "name": "stdout",
          "text": [
            "A disciplina Ciências da natureza tem 3 outliers.\n",
            "A disciplina Redação tem 4 outliers.\n"
          ]
        }
      ]
    },
    {
      "cell_type": "markdown",
      "source": [
        "## **Questão 09:** Remova todos os outliers e verifique se eles são passíveis de alterar a média nacional significativamente? (considere significativamente um valor acima de 5%)"
      ],
      "metadata": {
        "id": "C21wDMM7-QO_"
      }
    },
    {
      "cell_type": "code",
      "source": [
        "# Questão 9:\n",
        "df_sem_outliers = df.copy()\n",
        "\n",
        "for disciplina in ['Ciências da natureza', 'Redação']:\n",
        "    Q1 = df[disciplina].quantile(0.25)\n",
        "    Q3 = df[disciplina].quantile(0.75)\n",
        "    IQR = Q3 - Q1\n",
        "    limite_inferior = Q1 - 1.5 * IQR\n",
        "    limite_superior = Q3 + 1.5 * IQR\n",
        "\n",
        "    df_sem_outliers = df_sem_outliers[\n",
        "        (df_sem_outliers[disciplina] >= limite_inferior) & (df_sem_outliers[disciplina] <= limite_superior)\n",
        "    ]\n",
        "\n",
        "# Comparar médias\n",
        "media_original = df[['Ciências da natureza', 'Redação']].mean()\n",
        "media_sem_outliers = df_sem_outliers[['Ciências da natureza', 'Redação']].mean()\n",
        "\n",
        "impacto = abs((media_sem_outliers - media_original) / media_original) * 100\n",
        "print(f'Impacto na média após remoção dos outliers: \\n{impacto}')\n",
        "\n",
        "# Verificar se impacto é maior que 5%\n",
        "if any(impacto > 5):\n",
        "    print(\"A remoção dos outliers impacta significativamente a média.\")\n",
        "else:\n",
        "    print(\"A remoção dos outliers NÃO impacta significativamente a média.\")\n"
      ],
      "metadata": {
        "colab": {
          "base_uri": "https://localhost:8080/"
        },
        "id": "cu401s6S-ShQ",
        "outputId": "2c3e815c-bbf0-4957-a387-758b761861f9"
      },
      "execution_count": null,
      "outputs": [
        {
          "output_type": "stream",
          "name": "stdout",
          "text": [
            "Impacto na média após remoção dos outliers: \n",
            "Ciências da natureza    0.299276\n",
            "Redação                 0.009606\n",
            "dtype: float64\n",
            "A remoção dos outliers NÃO impacta significativamente a média.\n"
          ]
        }
      ]
    },
    {
      "cell_type": "markdown",
      "source": [
        "## **Questão 10:**  Considerando valores nulos, tente encontrar qual seria a melhor medida de tendência que pode substituir as notas nulas. Média, moda ou mediana? Substitua o valor por todos os três e diga qual delas altera menos a média geral e o desvio padrão."
      ],
      "metadata": {
        "id": "6I8xjcKc-QaP"
      }
    },
    {
      "cell_type": "code",
      "source": [
        "# Questão 10:\n",
        "# Substituir valores NaN por média, mediana e moda\n",
        "df_media = df.fillna(df[disciplinas].mean())\n",
        "df_mediana = df.fillna(df[disciplinas].median())\n",
        "\n",
        "# Para moda, garantir que mode() retorne um valor válido\n",
        "moda_values = df[disciplinas].mode().iloc[0] if not df[disciplinas].mode().empty else df[disciplinas].median()\n",
        "df_moda = df.fillna(moda_values)\n",
        "\n",
        "# Função para comparar impacto\n",
        "def comparar_impacto(df_original, df_alterado, metodo):\n",
        "    media_original = df_original[disciplinas].mean()\n",
        "    desvio_original = df_original[disciplinas].std()\n",
        "\n",
        "    media_alterada = df_alterado[disciplinas].mean()\n",
        "    desvio_alterado = df_alterado[disciplinas].std()\n",
        "\n",
        "    impacto_media = abs((media_alterada - media_original) / media_original) * 100\n",
        "    impacto_desvio = abs((desvio_alterado - desvio_original) / desvio_original) * 100\n",
        "\n",
        "    print(f\"Impacto ao substituir por {metodo}:\\nMédia: {impacto_media.mean():.2f}%\\nDesvio Padrão: {impacto_desvio.mean():.2f}%\\n\")\n",
        "\n",
        "comparar_impacto(df, df_media, 'Média')\n",
        "comparar_impacto(df, df_mediana, 'Mediana')\n",
        "comparar_impacto(df, df_moda, 'Moda')\n"
      ],
      "metadata": {
        "colab": {
          "base_uri": "https://localhost:8080/"
        },
        "id": "7p8RUFbY-Skz",
        "outputId": "05e33d68-cba1-4f73-c54e-93f23c696ba8"
      },
      "execution_count": null,
      "outputs": [
        {
          "output_type": "stream",
          "name": "stdout",
          "text": [
            "Impacto ao substituir por Média:\n",
            "Média: 0.00%\n",
            "Desvio Padrão: 5.79%\n",
            "\n",
            "Impacto ao substituir por Mediana:\n",
            "Média: 0.04%\n",
            "Desvio Padrão: 5.79%\n",
            "\n",
            "Impacto ao substituir por Moda:\n",
            "Média: 5.01%\n",
            "Desvio Padrão: 27.20%\n",
            "\n"
          ]
        }
      ]
    }
  ]
}